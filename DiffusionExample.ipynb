{
 "cells": [
  {
   "cell_type": "code",
   "execution_count": 1,
   "id": "dec77a36",
   "metadata": {},
   "outputs": [
    {
     "data": {
      "text/plain": [
       "False"
      ]
     },
     "execution_count": 1,
     "metadata": {},
     "output_type": "execute_result"
    }
   ],
   "source": [
    "import torch\n",
    "\n",
    "torch.cuda.is_available()"
   ]
  },
  {
   "cell_type": "code",
   "execution_count": 3,
   "id": "5b77963c",
   "metadata": {},
   "outputs": [
    {
     "ename": "SyntaxError",
     "evalue": "invalid character '©' (U+00A9) (1784556667.py, line 104)",
     "output_type": "error",
     "traceback": [
      "\u001b[0;36m  Cell \u001b[0;32mIn[3], line 104\u001b[0;36m\u001b[0m\n\u001b[0;31m    © 2023 GitHub, Inc.\u001b[0m\n\u001b[0m    ^\u001b[0m\n\u001b[0;31mSyntaxError\u001b[0m\u001b[0;31m:\u001b[0m invalid character '©' (U+00A9)\n"
     ]
    }
   ],
   "source": [
    "import os\n",
    "from datetime import datetime\n",
    "\n",
    "import torch.utils.data\n",
    "from torch import optim\n",
    "\n",
    "from Imagen import Imagen\n",
    "from Unet import Unet, Base, Super, BaseTest, SuperTest\n",
    "from generate import load_minimagen, load_params\n",
    "from t5 import get_encoded_dim\n",
    "from training import get_minimagen_parser, ConceptualCaptions, get_minimagen_dl_opts, \\\n",
    "    create_directory, get_model_params, get_model_size, save_training_info, get_default_args, MinimagenTrain, \\\n",
    "    load_restart_training_parameters, load_testing_parameters\n",
    "    \n",
    "# Get device\n",
    "device = torch.device(\"cuda:0\" if torch.cuda.is_available() else \"cpu\")\n",
    "\n",
    "# Command line argument parser. See `training.get_minimagen_parser()`.\n",
    "parser = get_minimagen_parser()\n",
    "# Add argument for when using `main.py`\n",
    "parser.add_argument(\"-ts\", \"--TIMESTAMP\", dest=\"timestamp\", help=\"Timestamp for training directory\", type=str,\n",
    "                             default=None)\n",
    "args = parser.parse_args()\n",
    "timestamp = args.timestamp\n",
    "\n",
    "# Get training timestamp for when running train.py as main rather than via main.py\n",
    "if timestamp is None:\n",
    "    timestamp = datetime.now().strftime(\"%Y%m%d_%H%M%S\")\n",
    "\n",
    "# Create training directory\n",
    "dir_path = f\"./training_{timestamp}\"\n",
    "training_dir = create_directory(dir_path)\n",
    "\n",
    "# If loading from a parameters/training directory\n",
    "if args.RESTART_DIRECTORY is not None:\n",
    "    args = load_restart_training_parameters(args)\n",
    "elif args.PARAMETERS is not None:\n",
    "    args = load_restart_training_parameters(args, justparams=True)\n",
    "\n",
    "# If testing, lower parameter values to lower computational load and also to lower amount of data being used.\n",
    "if args.TESTING:\n",
    "    args = load_testing_parameters(args)\n",
    "    train_dataset, valid_dataset = ConceptualCaptions(args, smalldata=True)\n",
    "else:\n",
    "    train_dataset, valid_dataset = ConceptualCaptions(args, smalldata=False)\n",
    "\n",
    "# Create dataloaders\n",
    "dl_opts = {**get_minimagen_dl_opts(device), 'batch_size': args.BATCH_SIZE, 'num_workers': args.NUM_WORKERS}\n",
    "train_dataloader = torch.utils.data.DataLoader(train_dataset, **dl_opts)\n",
    "valid_dataloader = torch.utils.data.DataLoader(valid_dataset, **dl_opts)\n",
    "\n",
    "# Create Unets\n",
    "if args.RESTART_DIRECTORY is None:\n",
    "    imagen_params = dict(\n",
    "        image_sizes=(int(args.IMG_SIDE_LEN / 2), args.IMG_SIDE_LEN),\n",
    "        timesteps=args.TIMESTEPS,\n",
    "        cond_drop_prob=0.15,\n",
    "        text_encoder_name=args.T5_NAME\n",
    "    )\n",
    "\n",
    "    # If not loading a training from a checkpoint\n",
    "    if args.TESTING:\n",
    "        # If testing, use tiny MinImagen for low computational load\n",
    "        unets_params = [get_default_args(BaseTest), get_default_args(SuperTest)]\n",
    "\n",
    "    # Else if not loading Unet/Imagen settings from a config (parameters) folder, use defaults\n",
    "    elif not args.PARAMETERS:\n",
    "        # If no parameters provided, use params from minimagen.Imagen.Base and minimagen.Imagen.Super built-in classes\n",
    "        unets_params = [get_default_args(Base), get_default_args(Super)]\n",
    "\n",
    "    # Else load unet/Imagen configs from config (parameters) folder (override imagen+params)\n",
    "    else:\n",
    "        # If parameters are provided, load them\n",
    "        unets_params, imagen_params = get_model_params(args.PARAMETERS)\n",
    "\n",
    "    # Create Unets accoridng to unets_params\n",
    "    unets = [Unet(**unet_params).to(device) for unet_params in unets_params]\n",
    "\n",
    "    # Create Imagen from UNets with specified imagen parameters\n",
    "    imagen = Imagen(unets=unets, **imagen_params).to(device)\n",
    "else:\n",
    "    # If training is being resumed from a previous one, load all relevant models/info (load config AND state dicts)\n",
    "    orig_train_dir = os.path.join(os.getcwd(), args.RESTART_DIRECTORY)\n",
    "    unets_params, imagen_params = load_params(orig_train_dir)\n",
    "    imagen = load_minimagen(orig_train_dir).to(device)\n",
    "    unets = imagen.unets\n",
    "\n",
    "# Fill in unspecified arguments with defaults for complete config (parameters) file\n",
    "unets_params = [{**get_default_args(Unet), **i} for i in unets_params]\n",
    "imagen_params = {**get_default_args(Imagen), **imagen_params}\n",
    "\n",
    "# Get the size of the Imagen model in megabytes\n",
    "model_size_MB = get_model_size(imagen)\n",
    "\n",
    "# Save all training info (config files, model size, etc.)\n",
    "save_training_info(args, timestamp, unets_params, imagen_params, model_size_MB, training_dir)\n",
    "\n",
    "# Create optimizer\n",
    "optimizer = optim.Adam(imagen.parameters(), lr=args.OPTIM_LR)\n",
    "\n",
    "# Train the MinImagen instance\n",
    "MinimagenTrain(timestamp, args, unets, imagen, train_dataloader, valid_dataloader, training_dir, optimizer, timeout=30)\n",
    "Footer\n",
    "© 2023 GitHub, Inc.\n",
    "Footer navigation\n",
    "Terms\n",
    "Privacy\n",
    "Security\n",
    "Status\n",
    "Docs\n",
    "Contact GitHub\n",
    "Pricing\n",
    "API\n",
    "Training\n",
    "Blog\n",
    "About\n",
    "MinImagen/train.py at main · AssemblyAI-Examples/MinImagen"
   ]
  }
 ],
 "metadata": {
  "kernelspec": {
   "display_name": "Python 3.10.9 ('ml')",
   "language": "python",
   "name": "python3"
  },
  "language_info": {
   "codemirror_mode": {
    "name": "ipython",
    "version": 3
   },
   "file_extension": ".py",
   "mimetype": "text/x-python",
   "name": "python",
   "nbconvert_exporter": "python",
   "pygments_lexer": "ipython3",
   "version": "3.10.9"
  },
  "vscode": {
   "interpreter": {
    "hash": "38cf3a2657c4530458a1d5b90a9ba637718c74089d900d5938397f33b4197fc5"
   }
  }
 },
 "nbformat": 4,
 "nbformat_minor": 5
}
